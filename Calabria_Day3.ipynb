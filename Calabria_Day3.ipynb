{
  "nbformat": 4,
  "nbformat_minor": 0,
  "metadata": {
    "kernelspec": {
      "display_name": "Python 3.7.6 64-bit ('DataAnalysis': conda)",
      "language": "python",
      "name": "python37664bitdataanalysisconda8e161d5cdc764188b6e87303ff22abc8"
    },
    "language_info": {
      "codemirror_mode": {
        "name": "ipython",
        "version": 3
      },
      "file_extension": ".py",
      "mimetype": "text/x-python",
      "name": "python",
      "nbconvert_exporter": "python",
      "pygments_lexer": "ipython3",
      "version": "3.8.3"
    },
    "colab": {
      "name": "Calabria_Day3.ipynb",
      "provenance": []
    }
  },
  "cells": [
    {
      "cell_type": "markdown",
      "metadata": {
        "id": "qovAGfgUqM4e",
        "colab_type": "text"
      },
      "source": [
        "# Lab Day_3\n"
      ]
    },
    {
      "cell_type": "markdown",
      "metadata": {
        "id": "9QKEOSuTqM4f",
        "colab_type": "text"
      },
      "source": [
        "### Introduction\n",
        "\n",
        "The notebook contains the lab exercise for day three. In the first section we will go through data pre-processing, followed by training a simple neural network based on the introduction you had in the lecture videos. \n",
        "\n",
        "### Problem Statement and Data\n",
        "#### Scenario:\n",
        "   - A medical division collected some data from its patients\n",
        "   - All the target patients contracted the same disease\n",
        "   - The therapy consists in five different and exclusive cures\n",
        "       * Each cure depends on the patients' conditions\n",
        "       \n",
        "#### Goal \n",
        "- Define an automatic procedure for the cure assignment\n",
        "- Multiclass classification with the maximum possible accuracy\n",
        "\n",
        "#### Data : \n",
        "The dataset `Drugs.csv` contains 200 observations and 9 features(variables)\n",
        "\n",
        "| Attribute       | Description                                               |\n",
        "|-----------------|-----------------------------------------------------------|\n",
        "| Instance_number | Incremental tuple ID (INTEGER)                            |\n",
        "| ID              | Patient’s ID (INTEGER)                                    |\n",
        "| Age             | Patient’s age (INTEGER)                                   |\n",
        "| Sex             | Patient’s gender: F or M                                  |\n",
        "| BP              | Blood Pressure: HIGH, NORMAL or LOW                       |\n",
        "| Cholesterol     | Concentration of cholesterol in the blood: NORMAL or HIGH |\n",
        "| Na              | Concentration of sodium in the blood (REAL)               |\n",
        "| K               | Concentration of potassium in the blood (REAL)            |\n",
        "| Drug            | The chosen cure: drugY, drugC, drugX, drugA, drugB        |\n",
        "\n",
        "\n",
        "### Issues:\n",
        "- Sex, BP and Cholestrol are categorical data\n",
        "- Na and K have missing values\n",
        "- The dataset is rather small\n"
      ]
    },
    {
      "cell_type": "code",
      "metadata": {
        "id": "EvcB_rOmqM4g",
        "colab_type": "code",
        "colab": {}
      },
      "source": [
        "# load the required libraries\n",
        "import pandas as pd\n",
        "import matplotlib.pyplot as plt\n",
        "import numpy as np\n",
        "import sklearn as sk\n",
        "import keras \n",
        "\n",
        "#set numpy random seed\n",
        "np.random.seed(1000)"
      ],
      "execution_count": 27,
      "outputs": []
    },
    {
      "cell_type": "code",
      "metadata": {
        "id": "Mqj2wOKdqM4k",
        "colab_type": "code",
        "colab": {}
      },
      "source": [
        "# import the data (drugs.csv) to colab\n",
        "# download the data from the Teams lecture and matrials folder\n",
        "\n",
        "from google.colab import files\n",
        "files.upload()\n",
        "\n"
      ],
      "execution_count": null,
      "outputs": []
    },
    {
      "cell_type": "code",
      "metadata": {
        "id": "O3R4T55SqM4n",
        "colab_type": "code",
        "colab": {}
      },
      "source": [
        "data = pd.read_csv('drug.csv', na_values='?')"
      ],
      "execution_count": 29,
      "outputs": []
    },
    {
      "cell_type": "code",
      "metadata": {
        "id": "7yDnlKTKqM4q",
        "colab_type": "code",
        "colab": {
          "base_uri": "https://localhost:8080/",
          "height": 419
        },
        "outputId": "a57254a4-07cc-4e28-e8ab-944fc286b032"
      },
      "source": [
        "# check the data\n",
        "data"
      ],
      "execution_count": 30,
      "outputs": [
        {
          "output_type": "execute_result",
          "data": {
            "text/html": [
              "<div>\n",
              "<style scoped>\n",
              "    .dataframe tbody tr th:only-of-type {\n",
              "        vertical-align: middle;\n",
              "    }\n",
              "\n",
              "    .dataframe tbody tr th {\n",
              "        vertical-align: top;\n",
              "    }\n",
              "\n",
              "    .dataframe thead th {\n",
              "        text-align: right;\n",
              "    }\n",
              "</style>\n",
              "<table border=\"1\" class=\"dataframe\">\n",
              "  <thead>\n",
              "    <tr style=\"text-align: right;\">\n",
              "      <th></th>\n",
              "      <th>Instance_number</th>\n",
              "      <th>ID</th>\n",
              "      <th>Age</th>\n",
              "      <th>Sex</th>\n",
              "      <th>BP</th>\n",
              "      <th>Cholesterol</th>\n",
              "      <th>Na</th>\n",
              "      <th>K</th>\n",
              "      <th>Drug</th>\n",
              "    </tr>\n",
              "  </thead>\n",
              "  <tbody>\n",
              "    <tr>\n",
              "      <th>0</th>\n",
              "      <td>0</td>\n",
              "      <td>1</td>\n",
              "      <td>23</td>\n",
              "      <td>F</td>\n",
              "      <td>HIGH</td>\n",
              "      <td>HIGH</td>\n",
              "      <td>0.792535</td>\n",
              "      <td>0.031258</td>\n",
              "      <td>drugY</td>\n",
              "    </tr>\n",
              "    <tr>\n",
              "      <th>1</th>\n",
              "      <td>1</td>\n",
              "      <td>2</td>\n",
              "      <td>47</td>\n",
              "      <td>M</td>\n",
              "      <td>LOW</td>\n",
              "      <td>HIGH</td>\n",
              "      <td>0.739309</td>\n",
              "      <td>0.056468</td>\n",
              "      <td>drugC</td>\n",
              "    </tr>\n",
              "    <tr>\n",
              "      <th>2</th>\n",
              "      <td>2</td>\n",
              "      <td>3</td>\n",
              "      <td>47</td>\n",
              "      <td>M</td>\n",
              "      <td>LOW</td>\n",
              "      <td>HIGH</td>\n",
              "      <td>0.697269</td>\n",
              "      <td>0.068944</td>\n",
              "      <td>drugC</td>\n",
              "    </tr>\n",
              "    <tr>\n",
              "      <th>3</th>\n",
              "      <td>3</td>\n",
              "      <td>4</td>\n",
              "      <td>28</td>\n",
              "      <td>F</td>\n",
              "      <td>NORMAL</td>\n",
              "      <td>HIGH</td>\n",
              "      <td>0.563682</td>\n",
              "      <td>0.072289</td>\n",
              "      <td>drugX</td>\n",
              "    </tr>\n",
              "    <tr>\n",
              "      <th>4</th>\n",
              "      <td>4</td>\n",
              "      <td>5</td>\n",
              "      <td>61</td>\n",
              "      <td>F</td>\n",
              "      <td>LOW</td>\n",
              "      <td>HIGH</td>\n",
              "      <td>0.559294</td>\n",
              "      <td>0.030998</td>\n",
              "      <td>drugY</td>\n",
              "    </tr>\n",
              "    <tr>\n",
              "      <th>...</th>\n",
              "      <td>...</td>\n",
              "      <td>...</td>\n",
              "      <td>...</td>\n",
              "      <td>...</td>\n",
              "      <td>...</td>\n",
              "      <td>...</td>\n",
              "      <td>...</td>\n",
              "      <td>...</td>\n",
              "      <td>...</td>\n",
              "    </tr>\n",
              "    <tr>\n",
              "      <th>195</th>\n",
              "      <td>195</td>\n",
              "      <td>196</td>\n",
              "      <td>56</td>\n",
              "      <td>F</td>\n",
              "      <td>LOW</td>\n",
              "      <td>HIGH</td>\n",
              "      <td>0.848774</td>\n",
              "      <td>0.073380</td>\n",
              "      <td>drugC</td>\n",
              "    </tr>\n",
              "    <tr>\n",
              "      <th>196</th>\n",
              "      <td>196</td>\n",
              "      <td>197</td>\n",
              "      <td>16</td>\n",
              "      <td>M</td>\n",
              "      <td>LOW</td>\n",
              "      <td>HIGH</td>\n",
              "      <td>0.743021</td>\n",
              "      <td>0.061886</td>\n",
              "      <td>drugC</td>\n",
              "    </tr>\n",
              "    <tr>\n",
              "      <th>197</th>\n",
              "      <td>197</td>\n",
              "      <td>198</td>\n",
              "      <td>52</td>\n",
              "      <td>M</td>\n",
              "      <td>NORMAL</td>\n",
              "      <td>HIGH</td>\n",
              "      <td>0.549945</td>\n",
              "      <td>NaN</td>\n",
              "      <td>drugX</td>\n",
              "    </tr>\n",
              "    <tr>\n",
              "      <th>198</th>\n",
              "      <td>198</td>\n",
              "      <td>199</td>\n",
              "      <td>23</td>\n",
              "      <td>M</td>\n",
              "      <td>NORMAL</td>\n",
              "      <td>NORMAL</td>\n",
              "      <td>0.784520</td>\n",
              "      <td>NaN</td>\n",
              "      <td>drugX</td>\n",
              "    </tr>\n",
              "    <tr>\n",
              "      <th>199</th>\n",
              "      <td>199</td>\n",
              "      <td>200</td>\n",
              "      <td>40</td>\n",
              "      <td>F</td>\n",
              "      <td>LOW</td>\n",
              "      <td>NORMAL</td>\n",
              "      <td>0.683503</td>\n",
              "      <td>0.060226</td>\n",
              "      <td>drugX</td>\n",
              "    </tr>\n",
              "  </tbody>\n",
              "</table>\n",
              "<p>200 rows × 9 columns</p>\n",
              "</div>"
            ],
            "text/plain": [
              "     Instance_number   ID  Age Sex  ... Cholesterol        Na         K   Drug\n",
              "0                  0    1   23   F  ...        HIGH  0.792535  0.031258  drugY\n",
              "1                  1    2   47   M  ...        HIGH  0.739309  0.056468  drugC\n",
              "2                  2    3   47   M  ...        HIGH  0.697269  0.068944  drugC\n",
              "3                  3    4   28   F  ...        HIGH  0.563682  0.072289  drugX\n",
              "4                  4    5   61   F  ...        HIGH  0.559294  0.030998  drugY\n",
              "..               ...  ...  ...  ..  ...         ...       ...       ...    ...\n",
              "195              195  196   56   F  ...        HIGH  0.848774  0.073380  drugC\n",
              "196              196  197   16   M  ...        HIGH  0.743021  0.061886  drugC\n",
              "197              197  198   52   M  ...        HIGH  0.549945       NaN  drugX\n",
              "198              198  199   23   M  ...      NORMAL  0.784520       NaN  drugX\n",
              "199              199  200   40   F  ...      NORMAL  0.683503  0.060226  drugX\n",
              "\n",
              "[200 rows x 9 columns]"
            ]
          },
          "metadata": {
            "tags": []
          },
          "execution_count": 30
        }
      ]
    },
    {
      "cell_type": "code",
      "metadata": {
        "id": "F2PvhLwkqM4u",
        "colab_type": "code",
        "colab": {}
      },
      "source": [
        "# replace NaN values by the mean values for Na and K\n",
        "# calculate the means\n",
        "# your code here\n",
        "########################\n",
        "\n",
        "\n",
        "\n",
        "########################\n",
        "\n",
        "# replace NaN by the mean values using pandas fillna function\n",
        "# https://pandas.pydata.org/pandas-docs/stable/reference/api/pandas.DataFrame.fillna.html?highlight=fillna#pandas.DataFrame.fillna\n",
        "########################\n",
        "\n",
        "\n",
        "#######################\n",
        "\n"
      ],
      "execution_count": 31,
      "outputs": []
    },
    {
      "cell_type": "code",
      "metadata": {
        "id": "uWO-2IKLqM4x",
        "colab_type": "code",
        "colab": {
          "base_uri": "https://localhost:8080/",
          "height": 419
        },
        "outputId": "8ca426c0-0e61-420e-bc26-44e0bd84db49"
      },
      "source": [
        "# print data after filling NaN\n",
        "data"
      ],
      "execution_count": 32,
      "outputs": [
        {
          "output_type": "execute_result",
          "data": {
            "text/html": [
              "<div>\n",
              "<style scoped>\n",
              "    .dataframe tbody tr th:only-of-type {\n",
              "        vertical-align: middle;\n",
              "    }\n",
              "\n",
              "    .dataframe tbody tr th {\n",
              "        vertical-align: top;\n",
              "    }\n",
              "\n",
              "    .dataframe thead th {\n",
              "        text-align: right;\n",
              "    }\n",
              "</style>\n",
              "<table border=\"1\" class=\"dataframe\">\n",
              "  <thead>\n",
              "    <tr style=\"text-align: right;\">\n",
              "      <th></th>\n",
              "      <th>Instance_number</th>\n",
              "      <th>ID</th>\n",
              "      <th>Age</th>\n",
              "      <th>Sex</th>\n",
              "      <th>BP</th>\n",
              "      <th>Cholesterol</th>\n",
              "      <th>Na</th>\n",
              "      <th>K</th>\n",
              "      <th>Drug</th>\n",
              "    </tr>\n",
              "  </thead>\n",
              "  <tbody>\n",
              "    <tr>\n",
              "      <th>0</th>\n",
              "      <td>0</td>\n",
              "      <td>1</td>\n",
              "      <td>23</td>\n",
              "      <td>F</td>\n",
              "      <td>HIGH</td>\n",
              "      <td>HIGH</td>\n",
              "      <td>0.792535</td>\n",
              "      <td>0.031258</td>\n",
              "      <td>drugY</td>\n",
              "    </tr>\n",
              "    <tr>\n",
              "      <th>1</th>\n",
              "      <td>1</td>\n",
              "      <td>2</td>\n",
              "      <td>47</td>\n",
              "      <td>M</td>\n",
              "      <td>LOW</td>\n",
              "      <td>HIGH</td>\n",
              "      <td>0.739309</td>\n",
              "      <td>0.056468</td>\n",
              "      <td>drugC</td>\n",
              "    </tr>\n",
              "    <tr>\n",
              "      <th>2</th>\n",
              "      <td>2</td>\n",
              "      <td>3</td>\n",
              "      <td>47</td>\n",
              "      <td>M</td>\n",
              "      <td>LOW</td>\n",
              "      <td>HIGH</td>\n",
              "      <td>0.697269</td>\n",
              "      <td>0.068944</td>\n",
              "      <td>drugC</td>\n",
              "    </tr>\n",
              "    <tr>\n",
              "      <th>3</th>\n",
              "      <td>3</td>\n",
              "      <td>4</td>\n",
              "      <td>28</td>\n",
              "      <td>F</td>\n",
              "      <td>NORMAL</td>\n",
              "      <td>HIGH</td>\n",
              "      <td>0.563682</td>\n",
              "      <td>0.072289</td>\n",
              "      <td>drugX</td>\n",
              "    </tr>\n",
              "    <tr>\n",
              "      <th>4</th>\n",
              "      <td>4</td>\n",
              "      <td>5</td>\n",
              "      <td>61</td>\n",
              "      <td>F</td>\n",
              "      <td>LOW</td>\n",
              "      <td>HIGH</td>\n",
              "      <td>0.559294</td>\n",
              "      <td>0.030998</td>\n",
              "      <td>drugY</td>\n",
              "    </tr>\n",
              "    <tr>\n",
              "      <th>...</th>\n",
              "      <td>...</td>\n",
              "      <td>...</td>\n",
              "      <td>...</td>\n",
              "      <td>...</td>\n",
              "      <td>...</td>\n",
              "      <td>...</td>\n",
              "      <td>...</td>\n",
              "      <td>...</td>\n",
              "      <td>...</td>\n",
              "    </tr>\n",
              "    <tr>\n",
              "      <th>195</th>\n",
              "      <td>195</td>\n",
              "      <td>196</td>\n",
              "      <td>56</td>\n",
              "      <td>F</td>\n",
              "      <td>LOW</td>\n",
              "      <td>HIGH</td>\n",
              "      <td>0.848774</td>\n",
              "      <td>0.073380</td>\n",
              "      <td>drugC</td>\n",
              "    </tr>\n",
              "    <tr>\n",
              "      <th>196</th>\n",
              "      <td>196</td>\n",
              "      <td>197</td>\n",
              "      <td>16</td>\n",
              "      <td>M</td>\n",
              "      <td>LOW</td>\n",
              "      <td>HIGH</td>\n",
              "      <td>0.743021</td>\n",
              "      <td>0.061886</td>\n",
              "      <td>drugC</td>\n",
              "    </tr>\n",
              "    <tr>\n",
              "      <th>197</th>\n",
              "      <td>197</td>\n",
              "      <td>198</td>\n",
              "      <td>52</td>\n",
              "      <td>M</td>\n",
              "      <td>NORMAL</td>\n",
              "      <td>HIGH</td>\n",
              "      <td>0.549945</td>\n",
              "      <td>NaN</td>\n",
              "      <td>drugX</td>\n",
              "    </tr>\n",
              "    <tr>\n",
              "      <th>198</th>\n",
              "      <td>198</td>\n",
              "      <td>199</td>\n",
              "      <td>23</td>\n",
              "      <td>M</td>\n",
              "      <td>NORMAL</td>\n",
              "      <td>NORMAL</td>\n",
              "      <td>0.784520</td>\n",
              "      <td>NaN</td>\n",
              "      <td>drugX</td>\n",
              "    </tr>\n",
              "    <tr>\n",
              "      <th>199</th>\n",
              "      <td>199</td>\n",
              "      <td>200</td>\n",
              "      <td>40</td>\n",
              "      <td>F</td>\n",
              "      <td>LOW</td>\n",
              "      <td>NORMAL</td>\n",
              "      <td>0.683503</td>\n",
              "      <td>0.060226</td>\n",
              "      <td>drugX</td>\n",
              "    </tr>\n",
              "  </tbody>\n",
              "</table>\n",
              "<p>200 rows × 9 columns</p>\n",
              "</div>"
            ],
            "text/plain": [
              "     Instance_number   ID  Age Sex  ... Cholesterol        Na         K   Drug\n",
              "0                  0    1   23   F  ...        HIGH  0.792535  0.031258  drugY\n",
              "1                  1    2   47   M  ...        HIGH  0.739309  0.056468  drugC\n",
              "2                  2    3   47   M  ...        HIGH  0.697269  0.068944  drugC\n",
              "3                  3    4   28   F  ...        HIGH  0.563682  0.072289  drugX\n",
              "4                  4    5   61   F  ...        HIGH  0.559294  0.030998  drugY\n",
              "..               ...  ...  ...  ..  ...         ...       ...       ...    ...\n",
              "195              195  196   56   F  ...        HIGH  0.848774  0.073380  drugC\n",
              "196              196  197   16   M  ...        HIGH  0.743021  0.061886  drugC\n",
              "197              197  198   52   M  ...        HIGH  0.549945       NaN  drugX\n",
              "198              198  199   23   M  ...      NORMAL  0.784520       NaN  drugX\n",
              "199              199  200   40   F  ...      NORMAL  0.683503  0.060226  drugX\n",
              "\n",
              "[200 rows x 9 columns]"
            ]
          },
          "metadata": {
            "tags": []
          },
          "execution_count": 32
        }
      ]
    },
    {
      "cell_type": "code",
      "metadata": {
        "id": "kIlKQTiTqM40",
        "colab_type": "code",
        "colab": {}
      },
      "source": [
        "# define the dependent and explantory variables\n",
        "X_all = data.iloc[:,2:8]\n",
        "Y_all = data.iloc[:,8]"
      ],
      "execution_count": 33,
      "outputs": []
    },
    {
      "cell_type": "code",
      "metadata": {
        "id": "OaySpYtgqM45",
        "colab_type": "code",
        "colab": {}
      },
      "source": [
        "\n",
        "from pandas.api.types import CategoricalDtype\n",
        "\n",
        "# encode the catagorical variables\n",
        "# there are a number of ways to encode categorical features to numeric\n",
        "# here we will use pandas 'One Hot Encoding'\n",
        "# The dummy variables will be named after the name of the category, by adding 'Sex_'   \n",
        "# to the beginning we know that these dummy variables indicate the Sex:\n",
        "X_all['Sex'] = X_all['Sex'].astype(CategoricalDtype(categories=['F', 'M'],ordered=False))\n",
        "# We can now obtain the dummy variables.\n",
        "Sex_dummies = pd.get_dummies(X_all['Sex'], prefix='Sex')\n",
        "\n",
        "# we do the same for BP\n",
        "X_all['BP'] = X_all['BP'].astype(CategoricalDtype(categories=['High', 'LOW','NORMAL'],ordered=False))\n",
        "BP_dummies = pd.get_dummies(X_all['BP'], prefix='BP')\n",
        "\n",
        "# we do the same for Cholesterol (now your turn)\n",
        "#============================================\n",
        "\n",
        "\n",
        "\n",
        "\n",
        "#============================================\n",
        "\n",
        "# get_dummies()function creates a new data frame. \n",
        "# We now have to attach this data frame to the main data frame:\n",
        "\n",
        "X_all = pd.concat([X_all,Sex_dummies,BP_dummies,Cholesterol_dummies ], axis=1)\n",
        "# since the dummy variables are in our main data frame, we can remove the original columns:\n",
        "X_all.drop(['Sex', 'BP', 'Cholesterol'],axis=1, inplace=True)\n",
        "\n",
        "Y_all = pd.DataFrame(Y_all)\n",
        "Y_all['Drug'] = Y_all['Drug'].astype(CategoricalDtype(categories=['drugY', 'drugC', 'drugX', 'drugA', 'drugB'],ordered=False))\n",
        "Drug_dummies = pd.get_dummies(Y_all)\n",
        "Y_all = Drug_dummies.values\n",
        "\n",
        "#second approach \n",
        "#from sklearn.preprocessing import OneHotEncoder\n",
        "#reshape target variable to 2d arrays\n",
        "#============================================\n",
        "#Y_all = Y_all.values.reshape((len(Y_all),1))\n",
        "#onehot_encoder = OneHotEncoder()\n",
        "#onehot_encoder.fit(Y_all)\n",
        "#Y_all = onehot_encoder.transform(Y_all)\n",
        "#Y_all = Y_all.todense()\n",
        "#============================================"
      ],
      "execution_count": 34,
      "outputs": []
    },
    {
      "cell_type": "code",
      "metadata": {
        "id": "MIbZQsK7qM48",
        "colab_type": "code",
        "colab": {
          "base_uri": "https://localhost:8080/",
          "height": 53
        },
        "outputId": "826ed5e5-dfca-4b0a-8668-e4a2dd9311c0"
      },
      "source": [
        "# check the shape of the data\n",
        "print(\"Y_all={}\".format(Y_all.shape))\n",
        "print(\"X_all={}\".format(X_all.shape))"
      ],
      "execution_count": 35,
      "outputs": [
        {
          "output_type": "stream",
          "text": [
            "Y_all=(200, 5)\n",
            "X_all=(200, 10)\n"
          ],
          "name": "stdout"
        }
      ]
    },
    {
      "cell_type": "code",
      "metadata": {
        "id": "e8o8zDb9qM4_",
        "colab_type": "code",
        "colab": {
          "base_uri": "https://localhost:8080/",
          "height": 107
        },
        "outputId": "167e10a3-a3d4-4f56-9526-0432644b2619"
      },
      "source": [
        "# print some of the target variables and see how its encoded\n",
        "Y_all[0:5]"
      ],
      "execution_count": 36,
      "outputs": [
        {
          "output_type": "execute_result",
          "data": {
            "text/plain": [
              "array([[1, 0, 0, 0, 0],\n",
              "       [0, 1, 0, 0, 0],\n",
              "       [0, 1, 0, 0, 0],\n",
              "       [0, 0, 1, 0, 0],\n",
              "       [1, 0, 0, 0, 0]], dtype=uint8)"
            ]
          },
          "metadata": {
            "tags": []
          },
          "execution_count": 36
        }
      ]
    },
    {
      "cell_type": "code",
      "metadata": {
        "id": "3sWdsjp4qM5B",
        "colab_type": "code",
        "colab": {
          "base_uri": "https://localhost:8080/",
          "height": 204
        },
        "outputId": "7daa94d1-dcd9-4b6f-dc6c-8cc0a0bba12d"
      },
      "source": [
        "# print some of the independent variables too\n",
        "# notice the X_all is still pandas dataframe object\n",
        "X_all.head(5)"
      ],
      "execution_count": 37,
      "outputs": [
        {
          "output_type": "execute_result",
          "data": {
            "text/html": [
              "<div>\n",
              "<style scoped>\n",
              "    .dataframe tbody tr th:only-of-type {\n",
              "        vertical-align: middle;\n",
              "    }\n",
              "\n",
              "    .dataframe tbody tr th {\n",
              "        vertical-align: top;\n",
              "    }\n",
              "\n",
              "    .dataframe thead th {\n",
              "        text-align: right;\n",
              "    }\n",
              "</style>\n",
              "<table border=\"1\" class=\"dataframe\">\n",
              "  <thead>\n",
              "    <tr style=\"text-align: right;\">\n",
              "      <th></th>\n",
              "      <th>Age</th>\n",
              "      <th>Na</th>\n",
              "      <th>K</th>\n",
              "      <th>Sex_F</th>\n",
              "      <th>Sex_M</th>\n",
              "      <th>BP_High</th>\n",
              "      <th>BP_LOW</th>\n",
              "      <th>BP_NORMAL</th>\n",
              "      <th>Cholesterol_HIGH</th>\n",
              "      <th>Cholesterol_NORMAL</th>\n",
              "    </tr>\n",
              "  </thead>\n",
              "  <tbody>\n",
              "    <tr>\n",
              "      <th>0</th>\n",
              "      <td>23</td>\n",
              "      <td>0.792535</td>\n",
              "      <td>0.031258</td>\n",
              "      <td>1</td>\n",
              "      <td>0</td>\n",
              "      <td>0</td>\n",
              "      <td>0</td>\n",
              "      <td>0</td>\n",
              "      <td>1</td>\n",
              "      <td>0</td>\n",
              "    </tr>\n",
              "    <tr>\n",
              "      <th>1</th>\n",
              "      <td>47</td>\n",
              "      <td>0.739309</td>\n",
              "      <td>0.056468</td>\n",
              "      <td>0</td>\n",
              "      <td>1</td>\n",
              "      <td>0</td>\n",
              "      <td>1</td>\n",
              "      <td>0</td>\n",
              "      <td>1</td>\n",
              "      <td>0</td>\n",
              "    </tr>\n",
              "    <tr>\n",
              "      <th>2</th>\n",
              "      <td>47</td>\n",
              "      <td>0.697269</td>\n",
              "      <td>0.068944</td>\n",
              "      <td>0</td>\n",
              "      <td>1</td>\n",
              "      <td>0</td>\n",
              "      <td>1</td>\n",
              "      <td>0</td>\n",
              "      <td>1</td>\n",
              "      <td>0</td>\n",
              "    </tr>\n",
              "    <tr>\n",
              "      <th>3</th>\n",
              "      <td>28</td>\n",
              "      <td>0.563682</td>\n",
              "      <td>0.072289</td>\n",
              "      <td>1</td>\n",
              "      <td>0</td>\n",
              "      <td>0</td>\n",
              "      <td>0</td>\n",
              "      <td>1</td>\n",
              "      <td>1</td>\n",
              "      <td>0</td>\n",
              "    </tr>\n",
              "    <tr>\n",
              "      <th>4</th>\n",
              "      <td>61</td>\n",
              "      <td>0.559294</td>\n",
              "      <td>0.030998</td>\n",
              "      <td>1</td>\n",
              "      <td>0</td>\n",
              "      <td>0</td>\n",
              "      <td>1</td>\n",
              "      <td>0</td>\n",
              "      <td>1</td>\n",
              "      <td>0</td>\n",
              "    </tr>\n",
              "  </tbody>\n",
              "</table>\n",
              "</div>"
            ],
            "text/plain": [
              "   Age        Na         K  ...  BP_NORMAL  Cholesterol_HIGH  Cholesterol_NORMAL\n",
              "0   23  0.792535  0.031258  ...          0                 1                   0\n",
              "1   47  0.739309  0.056468  ...          0                 1                   0\n",
              "2   47  0.697269  0.068944  ...          0                 1                   0\n",
              "3   28  0.563682  0.072289  ...          1                 1                   0\n",
              "4   61  0.559294  0.030998  ...          0                 1                   0\n",
              "\n",
              "[5 rows x 10 columns]"
            ]
          },
          "metadata": {
            "tags": []
          },
          "execution_count": 37
        }
      ]
    },
    {
      "cell_type": "code",
      "metadata": {
        "id": "rviOX9O0qM5E",
        "colab_type": "code",
        "colab": {}
      },
      "source": [
        "#Normalization of Age, Na and K\n",
        "X_all_norm = X_all\n",
        "#Age\n",
        "X_all_norm ['Age'] = (X_all_norm ['Age']-X_all_norm ['Age'].mean())/X_all_norm ['Age'].std()\n",
        "#Na\n",
        "X_all_norm ['Na'] = (X_all_norm ['Na']-X_all_norm ['Na'].mean())/X_all_norm ['Na'].std()\n",
        "# K [YOUR TURN]\n",
        "#============================\n",
        "\n",
        "\n",
        "#============================"
      ],
      "execution_count": 38,
      "outputs": []
    },
    {
      "cell_type": "code",
      "metadata": {
        "id": "9yNbmT1OqM5H",
        "colab_type": "code",
        "colab": {
          "base_uri": "https://localhost:8080/",
          "height": 419
        },
        "outputId": "367c98cc-e63a-48e5-caa5-0ee65f439b64"
      },
      "source": [
        "X_all_norm"
      ],
      "execution_count": 39,
      "outputs": [
        {
          "output_type": "execute_result",
          "data": {
            "text/html": [
              "<div>\n",
              "<style scoped>\n",
              "    .dataframe tbody tr th:only-of-type {\n",
              "        vertical-align: middle;\n",
              "    }\n",
              "\n",
              "    .dataframe tbody tr th {\n",
              "        vertical-align: top;\n",
              "    }\n",
              "\n",
              "    .dataframe thead th {\n",
              "        text-align: right;\n",
              "    }\n",
              "</style>\n",
              "<table border=\"1\" class=\"dataframe\">\n",
              "  <thead>\n",
              "    <tr style=\"text-align: right;\">\n",
              "      <th></th>\n",
              "      <th>Age</th>\n",
              "      <th>Na</th>\n",
              "      <th>K</th>\n",
              "      <th>Sex_F</th>\n",
              "      <th>Sex_M</th>\n",
              "      <th>BP_High</th>\n",
              "      <th>BP_LOW</th>\n",
              "      <th>BP_NORMAL</th>\n",
              "      <th>Cholesterol_HIGH</th>\n",
              "      <th>Cholesterol_NORMAL</th>\n",
              "    </tr>\n",
              "  </thead>\n",
              "  <tbody>\n",
              "    <tr>\n",
              "      <th>0</th>\n",
              "      <td>-1.288358</td>\n",
              "      <td>0.786509</td>\n",
              "      <td>0.031258</td>\n",
              "      <td>1</td>\n",
              "      <td>0</td>\n",
              "      <td>0</td>\n",
              "      <td>0</td>\n",
              "      <td>0</td>\n",
              "      <td>1</td>\n",
              "      <td>0</td>\n",
              "    </tr>\n",
              "    <tr>\n",
              "      <th>1</th>\n",
              "      <td>0.162291</td>\n",
              "      <td>0.345428</td>\n",
              "      <td>0.056468</td>\n",
              "      <td>0</td>\n",
              "      <td>1</td>\n",
              "      <td>0</td>\n",
              "      <td>1</td>\n",
              "      <td>0</td>\n",
              "      <td>1</td>\n",
              "      <td>0</td>\n",
              "    </tr>\n",
              "    <tr>\n",
              "      <th>2</th>\n",
              "      <td>0.162291</td>\n",
              "      <td>-0.002956</td>\n",
              "      <td>0.068944</td>\n",
              "      <td>0</td>\n",
              "      <td>1</td>\n",
              "      <td>0</td>\n",
              "      <td>1</td>\n",
              "      <td>0</td>\n",
              "      <td>1</td>\n",
              "      <td>0</td>\n",
              "    </tr>\n",
              "    <tr>\n",
              "      <th>3</th>\n",
              "      <td>-0.986139</td>\n",
              "      <td>-1.109986</td>\n",
              "      <td>0.072289</td>\n",
              "      <td>1</td>\n",
              "      <td>0</td>\n",
              "      <td>0</td>\n",
              "      <td>0</td>\n",
              "      <td>1</td>\n",
              "      <td>1</td>\n",
              "      <td>0</td>\n",
              "    </tr>\n",
              "    <tr>\n",
              "      <th>4</th>\n",
              "      <td>1.008504</td>\n",
              "      <td>-1.146349</td>\n",
              "      <td>0.030998</td>\n",
              "      <td>1</td>\n",
              "      <td>0</td>\n",
              "      <td>0</td>\n",
              "      <td>1</td>\n",
              "      <td>0</td>\n",
              "      <td>1</td>\n",
              "      <td>0</td>\n",
              "    </tr>\n",
              "    <tr>\n",
              "      <th>...</th>\n",
              "      <td>...</td>\n",
              "      <td>...</td>\n",
              "      <td>...</td>\n",
              "      <td>...</td>\n",
              "      <td>...</td>\n",
              "      <td>...</td>\n",
              "      <td>...</td>\n",
              "      <td>...</td>\n",
              "      <td>...</td>\n",
              "      <td>...</td>\n",
              "    </tr>\n",
              "    <tr>\n",
              "      <th>195</th>\n",
              "      <td>0.706285</td>\n",
              "      <td>1.252560</td>\n",
              "      <td>0.073380</td>\n",
              "      <td>1</td>\n",
              "      <td>0</td>\n",
              "      <td>0</td>\n",
              "      <td>1</td>\n",
              "      <td>0</td>\n",
              "      <td>1</td>\n",
              "      <td>0</td>\n",
              "    </tr>\n",
              "    <tr>\n",
              "      <th>196</th>\n",
              "      <td>-1.711464</td>\n",
              "      <td>0.376189</td>\n",
              "      <td>0.061886</td>\n",
              "      <td>0</td>\n",
              "      <td>1</td>\n",
              "      <td>0</td>\n",
              "      <td>1</td>\n",
              "      <td>0</td>\n",
              "      <td>1</td>\n",
              "      <td>0</td>\n",
              "    </tr>\n",
              "    <tr>\n",
              "      <th>197</th>\n",
              "      <td>0.464510</td>\n",
              "      <td>-1.223824</td>\n",
              "      <td>NaN</td>\n",
              "      <td>0</td>\n",
              "      <td>1</td>\n",
              "      <td>0</td>\n",
              "      <td>0</td>\n",
              "      <td>1</td>\n",
              "      <td>1</td>\n",
              "      <td>0</td>\n",
              "    </tr>\n",
              "    <tr>\n",
              "      <th>198</th>\n",
              "      <td>-1.288358</td>\n",
              "      <td>0.720089</td>\n",
              "      <td>NaN</td>\n",
              "      <td>0</td>\n",
              "      <td>1</td>\n",
              "      <td>0</td>\n",
              "      <td>0</td>\n",
              "      <td>1</td>\n",
              "      <td>0</td>\n",
              "      <td>1</td>\n",
              "    </tr>\n",
              "    <tr>\n",
              "      <th>199</th>\n",
              "      <td>-0.260815</td>\n",
              "      <td>-0.117034</td>\n",
              "      <td>0.060226</td>\n",
              "      <td>1</td>\n",
              "      <td>0</td>\n",
              "      <td>0</td>\n",
              "      <td>1</td>\n",
              "      <td>0</td>\n",
              "      <td>0</td>\n",
              "      <td>1</td>\n",
              "    </tr>\n",
              "  </tbody>\n",
              "</table>\n",
              "<p>200 rows × 10 columns</p>\n",
              "</div>"
            ],
            "text/plain": [
              "          Age        Na  ...  Cholesterol_HIGH  Cholesterol_NORMAL\n",
              "0   -1.288358  0.786509  ...                 1                   0\n",
              "1    0.162291  0.345428  ...                 1                   0\n",
              "2    0.162291 -0.002956  ...                 1                   0\n",
              "3   -0.986139 -1.109986  ...                 1                   0\n",
              "4    1.008504 -1.146349  ...                 1                   0\n",
              "..        ...       ...  ...               ...                 ...\n",
              "195  0.706285  1.252560  ...                 1                   0\n",
              "196 -1.711464  0.376189  ...                 1                   0\n",
              "197  0.464510 -1.223824  ...                 1                   0\n",
              "198 -1.288358  0.720089  ...                 0                   1\n",
              "199 -0.260815 -0.117034  ...                 0                   1\n",
              "\n",
              "[200 rows x 10 columns]"
            ]
          },
          "metadata": {
            "tags": []
          },
          "execution_count": 39
        }
      ]
    },
    {
      "cell_type": "code",
      "metadata": {
        "id": "JWMzRhDBqM5K",
        "colab_type": "code",
        "colab": {}
      },
      "source": [
        "# change dataframe to numpy arrays\n",
        "X_all = X_all_norm.values"
      ],
      "execution_count": 40,
      "outputs": []
    },
    {
      "cell_type": "code",
      "metadata": {
        "id": "7jWhxbJ3qM5M",
        "colab_type": "code",
        "colab": {}
      },
      "source": [
        "# split the data to training and test sets [Your turn] and name them (train_data,test_data,train_target,test_target)\n",
        "from sklearn.model_selection import train_test_split\n",
        "#===================================\n",
        "\n",
        "\n",
        "\n",
        "\n",
        "#===================================\n"
      ],
      "execution_count": 41,
      "outputs": []
    },
    {
      "cell_type": "code",
      "metadata": {
        "id": "4BgRRbq9qM5P",
        "colab_type": "code",
        "colab": {}
      },
      "source": [
        "#train_data = X_all[:150]\n",
        "#test_data = X_all[150:]\n",
        "#train_target = Y_all[:150]\n",
        "#test_target = Y_all[150:]"
      ],
      "execution_count": 42,
      "outputs": []
    },
    {
      "cell_type": "code",
      "metadata": {
        "id": "m9ruQvEuqM5S",
        "colab_type": "code",
        "colab": {
          "base_uri": "https://localhost:8080/",
          "height": 197
        },
        "outputId": "a53279de-289f-40c1-90d6-28d16a60b4b9"
      },
      "source": [
        "test_data[0:5]"
      ],
      "execution_count": 43,
      "outputs": [
        {
          "output_type": "execute_result",
          "data": {
            "text/plain": [
              "array([[ 0.94805982, -0.43850034,  0.78870765,  0.        ,  1.        ,\n",
              "         0.        ,  0.        ,  1.        ,  0.        ,  1.        ],\n",
              "       [ 1.73382824,  1.13647813, -0.38458216,  1.        ,  0.        ,\n",
              "         0.        ,  0.        ,  1.        ,  1.        ,  0.        ],\n",
              "       [ 0.52495375, -0.4433725 , -0.25327597,  0.        ,  1.        ,\n",
              "         0.        ,  0.        ,  1.        ,  1.        ,  0.        ],\n",
              "       [-0.98613937, -0.34781421, -0.0052658 ,  1.        ,  0.        ,\n",
              "         0.        ,  1.        ,  0.        ,  1.        ,  0.        ],\n",
              "       [-1.59057662,  1.57797665, -1.49361091,  1.        ,  0.        ,\n",
              "         0.        ,  0.        ,  0.        ,  1.        ,  0.        ]])"
            ]
          },
          "metadata": {
            "tags": []
          },
          "execution_count": 43
        }
      ]
    },
    {
      "cell_type": "code",
      "metadata": {
        "id": "ru9JiYlHqM5V",
        "colab_type": "code",
        "colab": {
          "base_uri": "https://localhost:8080/",
          "height": 89
        },
        "outputId": "84b3e551-4fbe-43b8-a947-800cc8055046"
      },
      "source": [
        "# print the shapes of the splited data\n",
        "print(\"train_data={}\".format(train_data.shape))\n",
        "print(\"test_data={}\".format(test_data.shape))\n",
        "print(\"train_target={}\".format(train_target.shape))\n",
        "print(\"test_target={}\".format(test_target.shape))"
      ],
      "execution_count": 44,
      "outputs": [
        {
          "output_type": "stream",
          "text": [
            "train_data=(150, 10)\n",
            "test_data=(50, 10)\n",
            "train_target=(150, 5)\n",
            "test_target=(50, 5)\n"
          ],
          "name": "stdout"
        }
      ]
    },
    {
      "cell_type": "markdown",
      "metadata": {
        "id": "VEslE1e4qM5Z",
        "colab_type": "text"
      },
      "source": [
        "# Model Data Using Neural Network"
      ]
    },
    {
      "cell_type": "code",
      "metadata": {
        "id": "r2r3Od2BqM5b",
        "colab_type": "code",
        "colab": {}
      },
      "source": [
        "# Import `models`  and ayers` from `keras`\n",
        "from keras import models\n",
        "from keras import layers\n",
        "\n",
        "# define a simple function that returns a compiled model\n",
        "def build_model():\n",
        "  # Initialize the constructor\n",
        "  model = models.Sequential()\n",
        "  # Add an input layer \n",
        "  model.add(layers.Dense(32, activation='relu', input_shape=(train_data.shape[1],)))\n",
        "  # Add one hidden layer\n",
        "  model.add(layers.Dense(32, activation='relu'))\n",
        "  # Add an output layer  \n",
        "  model.add(layers.Dense(train_target.shape[1], activation='softmax'))\n",
        "  # compile model\n",
        "  model.compile(optimizer='rmsprop',\n",
        "              loss='categorical_crossentropy',\n",
        "              metrics=['accuracy'])\n",
        "  return model\n"
      ],
      "execution_count": 45,
      "outputs": []
    },
    {
      "cell_type": "code",
      "metadata": {
        "id": "N94Tx-TNqM5e",
        "colab_type": "code",
        "colab": {
          "base_uri": "https://localhost:8080/",
          "height": 71
        },
        "outputId": "8ccf9110-c2d7-4296-cf85-70f99321a050"
      },
      "source": [
        "# fit the neural network model using three fold cross validation\n",
        "k = 3\n",
        "num_val_samples = len(train_data) // k\n",
        "num_epochs = 200\n",
        "val_loss = []\n",
        "all_loss = []\n",
        "val_metric = []\n",
        "all_metric = []\n",
        "for i in range(k):\n",
        "    print('processing fold #', i+1)\n",
        "    # Prepare the validation data: data from partition # k\n",
        "    val_data = train_data[i * num_val_samples: (i + 1) * num_val_samples]\n",
        "    val_targets = train_target[i * num_val_samples: (i + 1) * num_val_samples]\n",
        "    # Prepare the training data: data from all other partitions\n",
        "    partial_train_data = np.concatenate(\n",
        "        [train_data[:i * num_val_samples],\n",
        "         train_data[(i + 1) * num_val_samples:]],\n",
        "        axis=0)\n",
        "    partial_train_targets = np.concatenate(\n",
        "        [train_target[:i * num_val_samples],\n",
        "         train_target[(i + 1) * num_val_samples:]],\n",
        "        axis=0)\n",
        "    # Build the Keras model (already compiled)\n",
        "    model = build_model()\n",
        "    # Train the model (in silent mode, verbose=0)\n",
        "    history = model.fit(partial_train_data, partial_train_targets, validation_data=(val_data, val_targets),\n",
        "              epochs=num_epochs, batch_size=10, verbose=0)\n",
        "    # Evaluate the model on the validation data\n",
        "    val_loss_history = history.history['val_loss'] \n",
        "    loss_history = history.history['loss']\n",
        "    val_metric_history = history.history['val_accuracy']\n",
        "    metric_history = history.history['accuracy']\n",
        "    val_loss.append(val_loss_history)\n",
        "    all_loss.append(loss_history)\n",
        "    val_metric.append(val_metric_history)\n",
        "    all_metric.append(metric_history)"
      ],
      "execution_count": 46,
      "outputs": [
        {
          "output_type": "stream",
          "text": [
            "processing fold # 1\n",
            "processing fold # 2\n",
            "processing fold # 3\n"
          ],
          "name": "stdout"
        }
      ]
    },
    {
      "cell_type": "code",
      "metadata": {
        "id": "L9LDDwBsqM5h",
        "colab_type": "code",
        "colab": {
          "base_uri": "https://localhost:8080/",
          "height": 35
        },
        "outputId": "206f53d5-f0aa-40b6-8258-9fc1d32140ef"
      },
      "source": [
        "# check which metrics are included in the history object\n",
        "history_dict = history.history\n",
        "history_dict.keys()\n"
      ],
      "execution_count": 47,
      "outputs": [
        {
          "output_type": "execute_result",
          "data": {
            "text/plain": [
              "dict_keys(['val_loss', 'val_accuracy', 'loss', 'accuracy'])"
            ]
          },
          "metadata": {
            "tags": []
          },
          "execution_count": 47
        }
      ]
    },
    {
      "cell_type": "code",
      "metadata": {
        "id": "G5wRkQkDqM5j",
        "colab_type": "code",
        "colab": {}
      },
      "source": [
        "# calculate the avarae of accuracy across the three folds\n",
        "average_val_loss_history = [\n",
        "    np.mean([x[i] for x in val_loss]) for i in range(num_epochs)]\n",
        "average_loss_history = [\n",
        "    np.mean([x[i] for x in all_loss]) for i in range(num_epochs)]\n",
        "average_val_metric_history = [\n",
        "    np.mean([x[i] for x in val_metric]) for i in range(num_epochs)]\n",
        "average_metric_history = [\n",
        "    np.mean([x[i] for x in all_metric]) for i in range(num_epochs)]"
      ],
      "execution_count": 48,
      "outputs": []
    },
    {
      "cell_type": "code",
      "metadata": {
        "id": "aq3P9BONqM5m",
        "colab_type": "code",
        "colab": {
          "base_uri": "https://localhost:8080/",
          "height": 295
        },
        "outputId": "5264f606-d941-4b56-92ba-d79cde385c0f"
      },
      "source": [
        "plt.plot(range(1, len(average_metric_history) + 1), average_metric_history,'r', label='Training acc')\n",
        "plt.plot(range(1, len(average_val_metric_history) + 1), average_val_metric_history,'b', label='Validation acc')\n",
        "plt.title('Training and validation accuracy')\n",
        "plt.xlabel('Epochs')\n",
        "plt.ylabel('Accuracy')\n",
        "plt.legend()\n",
        "plt.show()"
      ],
      "execution_count": 49,
      "outputs": [
        {
          "output_type": "display_data",
          "data": {
            "image/png": "[encoded data removed]",
            "text/plain": [
              "<Figure size 432x288 with 1 Axes>"
            ]
          },
          "metadata": {
            "tags": [],
            "needs_background": "light"
          }
        }
      ]
    },
    {
      "cell_type": "code",
      "metadata": {
        "id": "Qa3b7EACNgsI",
        "colab_type": "code",
        "colab": {
          "base_uri": "https://localhost:8080/",
          "height": 295
        },
        "outputId": "d71bc768-c123-4585-d841-010093ca2c59"
      },
      "source": [
        "plt.plot(range(1, len(average_loss_history) + 1), average_loss_history,'r', label='Training Loss')\n",
        "plt.plot(range(1, len(average_val_loss_history) + 1), average_val_loss_history,'b', label='Validation Loss')\n",
        "plt.title('Training and validation Loss')\n",
        "plt.xlabel('Epochs')\n",
        "plt.ylabel('Loss')\n",
        "plt.legend()\n",
        "plt.show()"
      ],
      "execution_count": 50,
      "outputs": [
        {
          "output_type": "display_data",
          "data": {
            "image/png": "[encoded data removed]",
            "text/plain": [
              "<Figure size 432x288 with 1 Axes>"
            ]
          },
          "metadata": {
            "tags": [],
            "needs_background": "light"
          }
        }
      ]
    },
    {
      "cell_type": "code",
      "metadata": {
        "id": "EsI39R_SqM5o",
        "colab_type": "code",
        "colab": {
          "base_uri": "https://localhost:8080/",
          "height": 71
        },
        "outputId": "186bcb58-f768-409d-e4f2-939516132ab8"
      },
      "source": [
        "model = build_model()\n",
        "from keras.utils.vis_utils import plot_model\n",
        "plot_model(model, show_shapes=True)\n",
        "model.fit(train_data, train_target,epochs=120, batch_size = 10, verbose=0)\n",
        "y_pred = model.predict(test_data)\n",
        "\n",
        "print(\"Evaluation on test data\")\n",
        "results = model.evaluate(test_data,test_target, batch_size=1)\n",
        "print(\"test loss, test acc:\", results)"
      ],
      "execution_count": 51,
      "outputs": [
        {
          "output_type": "stream",
          "text": [
            "Evaluation on test data\n",
            "50/50 [==============================] - 0s 857us/step\n",
            "test loss, test acc: [0.545521657357389, 0.9200000166893005]\n"
          ],
          "name": "stdout"
        }
      ]
    },
    {
      "cell_type": "code",
      "metadata": {
        "id": "NNZotGUNUkhs",
        "colab_type": "code",
        "colab": {
          "base_uri": "https://localhost:8080/",
          "height": 317
        },
        "outputId": "432357db-c491-4880-9056-6a3541e4a64e"
      },
      "source": [
        "print(model.summary())"
      ],
      "execution_count": null,
      "outputs": [
        {
          "output_type": "stream",
          "text": [
            "Model: \"sequential_4\"\n",
            "_________________________________________________________________\n",
            "Layer (type)                 Output Shape              Param #   \n",
            "=================================================================\n",
            "dense_10 (Dense)             (None, 32)                352       \n",
            "_________________________________________________________________\n",
            "dense_11 (Dense)             (None, 32)                1056      \n",
            "_________________________________________________________________\n",
            "dense_12 (Dense)             (None, 5)                 165       \n",
            "=================================================================\n",
            "Total params: 1,573\n",
            "Trainable params: 1,573\n",
            "Non-trainable params: 0\n",
            "_________________________________________________________________\n",
            "None\n"
          ],
          "name": "stdout"
        }
      ]
    },
    {
      "cell_type": "code",
      "metadata": {
        "id": "3PkA9B3oqM5r",
        "colab_type": "code",
        "colab": {
          "base_uri": "https://localhost:8080/",
          "height": 422
        },
        "outputId": "a3ae29ef-aac6-4b9f-b8aa-e42876256fb4"
      },
      "source": [
        "from IPython.display import Image\n",
        "Image('model.png')"
      ],
      "execution_count": null,
      "outputs": [
        {
          "output_type": "execute_result",
          "data": {
            "image/png": "[encoded data removed]",
            "text/plain": [
              "<IPython.core.display.Image object>"
            ]
          },
          "metadata": {
            "tags": []
          },
          "execution_count": 25
        }
      ]
    },
    {
      "cell_type": "markdown",
      "metadata": {
        "id": "02xBhiFsqM5u",
        "colab_type": "text"
      },
      "source": [
        "There are a number of hyperparmeters you can change to make your model even better. In the folowwing sections try changing the hyperparameters and see how the accuracy of your model changes. \n"
      ]
    },
    {
      "cell_type": "code",
      "metadata": {
        "id": "okoZgYHRqM5u",
        "colab_type": "code",
        "colab": {}
      },
      "source": [
        "# You used 1 hidden layers. Try to use 2 or 3 hidden layers\n",
        "#Your solution here\n",
        "\n"
      ],
      "execution_count": null,
      "outputs": []
    },
    {
      "cell_type": "code",
      "metadata": {
        "id": "he5d78-WqM5x",
        "colab_type": "code",
        "colab": {}
      },
      "source": [
        "#try using the tanh activation function, Instead of relu and see what the result is\n",
        "# Your solution here"
      ],
      "execution_count": null,
      "outputs": []
    },
    {
      "cell_type": "code",
      "metadata": {
        "id": "lQQGgVcRqM5z",
        "colab_type": "code",
        "colab": {}
      },
      "source": [
        "#try out experimenting with the learning rate `lr` \n",
        "# refere to https://keras.io/api/optimizers/rmsprop/\n",
        "from keras.optimizers import RMSprop\n",
        "\n",
        "# Your solution here"
      ],
      "execution_count": null,
      "outputs": []
    },
    {
      "cell_type": "code",
      "metadata": {
        "id": "7P4rgZEyqM52",
        "colab_type": "code",
        "colab": {}
      },
      "source": [
        ""
      ],
      "execution_count": null,
      "outputs": []
    }
  ]
}